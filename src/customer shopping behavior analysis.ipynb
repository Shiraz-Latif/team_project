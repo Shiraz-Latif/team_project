{
 "cells": [
  {
   "cell_type": "markdown",
   "metadata": {},
   "source": [
    "# **Team Project**\n",
    "## Consumer Behavior and Shopping Habits\n",
    "\n",
    "### Group#24 \n",
    "#### Team Members \n",
    "- Shiraz Latif\n",
    "- Jessilynn Kim\n",
    "- Mykhailo Vitvinov\n",
    "- Olena Bolokhonova\n",
    "\n",
    "\n",
    "\n",
    "\n",
    "\n"
   ]
  },
  {
   "cell_type": "markdown",
   "metadata": {},
   "source": [
    "### Description:\n",
    "This project aims to analyze consumer behavior and shopping habits using a dataset that includes various demographic, transactional, and behavioral attributes of customers. The dataset encompasses a wide range of variables such as age, gender, purchase amount, location, product category, and more. The primary objective is to explore the relationships between these variables to uncover meaningful insights that can inform business strategies.\n",
    "### Purpose:\n",
    "The purpose of this project is to leverage statistical analysis and machine learning techniques to understand the factors influencing customer purchase behavior. By examining how different variables, such as age and discount application, impact purchase amounts, we aim to provide data-driven recommendations for improving marketing strategies, optimizing product offerings, and enhancing overall customer satisfaction."
   ]
  },
  {
   "cell_type": "markdown",
   "metadata": {},
   "source": [
    "#### Libraries Import"
   ]
  },
  {
   "cell_type": "code",
   "execution_count": 74,
   "metadata": {},
   "outputs": [],
   "source": [
    "import numpy as np\n",
    "import pandas as pd\n",
    "from sklearn.model_selection import train_test_split, cross_val_score\n",
    "from sklearn.linear_model import LinearRegression\n",
    "from sklearn.metrics import mean_absolute_error, mean_squared_error, r2_score\n",
    "import statsmodels.api as sm\n",
    "import matplotlib.pyplot as plt\n",
    "import seaborn as sns\n",
    "\n",
    "# Import specific objects\n",
    "from sklearn.preprocessing import StandardScaler\n",
    "from ISLP import load_data\n",
    "import os\n",
    "from scipy import stats\n",
    "\n",
    "#Import for kNN \n",
    "from ISLP.models import ModelSpec as MS\n",
    "import warnings \n",
    "warnings.filterwarnings('ignore') # mute warning messages\n",
    "from ISLP import confusion_table\n",
    "from sklearn.neighbors import KNeighborsClassifier\n",
    "from sklearn.model_selection import train_test_split\n",
    "from sklearn.preprocessing import LabelEncoder\n",
    "from sklearn.metrics import accuracy_score, classification_report\n"
   ]
  },
  {
   "cell_type": "markdown",
   "metadata": {},
   "source": [
    "#### Data Import "
   ]
  },
  {
   "cell_type": "code",
   "execution_count": 127,
   "metadata": {},
   "outputs": [
    {
     "data": {
      "text/html": [
       "<div>\n",
       "<style scoped>\n",
       "    .dataframe tbody tr th:only-of-type {\n",
       "        vertical-align: middle;\n",
       "    }\n",
       "\n",
       "    .dataframe tbody tr th {\n",
       "        vertical-align: top;\n",
       "    }\n",
       "\n",
       "    .dataframe thead th {\n",
       "        text-align: right;\n",
       "    }\n",
       "</style>\n",
       "<table border=\"1\" class=\"dataframe\">\n",
       "  <thead>\n",
       "    <tr style=\"text-align: right;\">\n",
       "      <th></th>\n",
       "      <th>Customer ID</th>\n",
       "      <th>Age</th>\n",
       "      <th>Gender</th>\n",
       "      <th>Item Purchased</th>\n",
       "      <th>Category</th>\n",
       "      <th>Purchase Amount (USD)</th>\n",
       "      <th>Location</th>\n",
       "      <th>Size</th>\n",
       "      <th>Color</th>\n",
       "      <th>Season</th>\n",
       "      <th>Review Rating</th>\n",
       "      <th>Subscription Status</th>\n",
       "      <th>Payment Method</th>\n",
       "      <th>Shipping Type</th>\n",
       "      <th>Discount Applied</th>\n",
       "      <th>Promo Code Used</th>\n",
       "      <th>Previous Purchases</th>\n",
       "      <th>Preferred Payment Method</th>\n",
       "      <th>Frequency of Purchases</th>\n",
       "    </tr>\n",
       "  </thead>\n",
       "  <tbody>\n",
       "    <tr>\n",
       "      <th>0</th>\n",
       "      <td>1</td>\n",
       "      <td>55</td>\n",
       "      <td>Male</td>\n",
       "      <td>Blouse</td>\n",
       "      <td>Clothing</td>\n",
       "      <td>53</td>\n",
       "      <td>Kentucky</td>\n",
       "      <td>L</td>\n",
       "      <td>Gray</td>\n",
       "      <td>Winter</td>\n",
       "      <td>3.1</td>\n",
       "      <td>Yes</td>\n",
       "      <td>Credit Card</td>\n",
       "      <td>Express</td>\n",
       "      <td>Yes</td>\n",
       "      <td>Yes</td>\n",
       "      <td>14</td>\n",
       "      <td>Venmo</td>\n",
       "      <td>Fortnightly</td>\n",
       "    </tr>\n",
       "    <tr>\n",
       "      <th>1</th>\n",
       "      <td>2</td>\n",
       "      <td>19</td>\n",
       "      <td>Male</td>\n",
       "      <td>Sweater</td>\n",
       "      <td>Clothing</td>\n",
       "      <td>64</td>\n",
       "      <td>Maine</td>\n",
       "      <td>L</td>\n",
       "      <td>Maroon</td>\n",
       "      <td>Winter</td>\n",
       "      <td>3.1</td>\n",
       "      <td>Yes</td>\n",
       "      <td>Bank Transfer</td>\n",
       "      <td>Express</td>\n",
       "      <td>Yes</td>\n",
       "      <td>Yes</td>\n",
       "      <td>2</td>\n",
       "      <td>Cash</td>\n",
       "      <td>Fortnightly</td>\n",
       "    </tr>\n",
       "    <tr>\n",
       "      <th>2</th>\n",
       "      <td>3</td>\n",
       "      <td>50</td>\n",
       "      <td>Male</td>\n",
       "      <td>Jeans</td>\n",
       "      <td>Clothing</td>\n",
       "      <td>73</td>\n",
       "      <td>Massachusetts</td>\n",
       "      <td>S</td>\n",
       "      <td>Maroon</td>\n",
       "      <td>Spring</td>\n",
       "      <td>3.1</td>\n",
       "      <td>Yes</td>\n",
       "      <td>Cash</td>\n",
       "      <td>Free Shipping</td>\n",
       "      <td>Yes</td>\n",
       "      <td>Yes</td>\n",
       "      <td>23</td>\n",
       "      <td>Credit Card</td>\n",
       "      <td>Weekly</td>\n",
       "    </tr>\n",
       "    <tr>\n",
       "      <th>3</th>\n",
       "      <td>4</td>\n",
       "      <td>21</td>\n",
       "      <td>Male</td>\n",
       "      <td>Sandals</td>\n",
       "      <td>Footwear</td>\n",
       "      <td>90</td>\n",
       "      <td>Rhode Island</td>\n",
       "      <td>M</td>\n",
       "      <td>Maroon</td>\n",
       "      <td>Spring</td>\n",
       "      <td>3.5</td>\n",
       "      <td>Yes</td>\n",
       "      <td>PayPal</td>\n",
       "      <td>Next Day Air</td>\n",
       "      <td>Yes</td>\n",
       "      <td>Yes</td>\n",
       "      <td>49</td>\n",
       "      <td>PayPal</td>\n",
       "      <td>Weekly</td>\n",
       "    </tr>\n",
       "    <tr>\n",
       "      <th>4</th>\n",
       "      <td>5</td>\n",
       "      <td>45</td>\n",
       "      <td>Male</td>\n",
       "      <td>Blouse</td>\n",
       "      <td>Clothing</td>\n",
       "      <td>49</td>\n",
       "      <td>Oregon</td>\n",
       "      <td>M</td>\n",
       "      <td>Turquoise</td>\n",
       "      <td>Spring</td>\n",
       "      <td>2.7</td>\n",
       "      <td>Yes</td>\n",
       "      <td>Cash</td>\n",
       "      <td>Free Shipping</td>\n",
       "      <td>Yes</td>\n",
       "      <td>Yes</td>\n",
       "      <td>31</td>\n",
       "      <td>PayPal</td>\n",
       "      <td>Annually</td>\n",
       "    </tr>\n",
       "  </tbody>\n",
       "</table>\n",
       "</div>"
      ],
      "text/plain": [
       "   Customer ID  Age Gender Item Purchased  Category  Purchase Amount (USD)  \\\n",
       "0            1   55   Male         Blouse  Clothing                     53   \n",
       "1            2   19   Male        Sweater  Clothing                     64   \n",
       "2            3   50   Male          Jeans  Clothing                     73   \n",
       "3            4   21   Male        Sandals  Footwear                     90   \n",
       "4            5   45   Male         Blouse  Clothing                     49   \n",
       "\n",
       "        Location Size      Color  Season  Review Rating Subscription Status  \\\n",
       "0       Kentucky    L       Gray  Winter            3.1                 Yes   \n",
       "1          Maine    L     Maroon  Winter            3.1                 Yes   \n",
       "2  Massachusetts    S     Maroon  Spring            3.1                 Yes   \n",
       "3   Rhode Island    M     Maroon  Spring            3.5                 Yes   \n",
       "4         Oregon    M  Turquoise  Spring            2.7                 Yes   \n",
       "\n",
       "  Payment Method  Shipping Type Discount Applied Promo Code Used  \\\n",
       "0    Credit Card        Express              Yes             Yes   \n",
       "1  Bank Transfer        Express              Yes             Yes   \n",
       "2           Cash  Free Shipping              Yes             Yes   \n",
       "3         PayPal   Next Day Air              Yes             Yes   \n",
       "4           Cash  Free Shipping              Yes             Yes   \n",
       "\n",
       "   Previous Purchases Preferred Payment Method Frequency of Purchases  \n",
       "0                  14                    Venmo            Fortnightly  \n",
       "1                   2                     Cash            Fortnightly  \n",
       "2                  23              Credit Card                 Weekly  \n",
       "3                  49                   PayPal                 Weekly  \n",
       "4                  31                   PayPal               Annually  "
      ]
     },
     "execution_count": 127,
     "metadata": {},
     "output_type": "execute_result"
    }
   ],
   "source": [
    "cust_data = pd.read_csv(\"../data/processed/shopping_trends.csv\")\n",
    "cust_data.head()\n"
   ]
  },
  {
   "cell_type": "code",
   "execution_count": 128,
   "metadata": {},
   "outputs": [],
   "source": [
    "# Load the dataset with specific delimiter and encoding (if necessary)\n",
    "file_path = \"../data/processed/shopping_trends.csv\"\n",
    "cust_data = pd.read_csv(file_path, delimiter=',', encoding='utf-8')  # Adjust delimiter and encoding if needed"
   ]
  },
  {
   "cell_type": "markdown",
   "metadata": {},
   "source": [
    "### Understanding the Data "
   ]
  },
  {
   "cell_type": "code",
   "execution_count": 129,
   "metadata": {},
   "outputs": [
    {
     "data": {
      "text/plain": [
       "Customer ID                   int64\n",
       "Age                           int64\n",
       "Gender                       object\n",
       "Item Purchased               object\n",
       "Category                     object\n",
       "Purchase Amount (USD)         int64\n",
       "Location                     object\n",
       "Size                         object\n",
       "Color                        object\n",
       "Season                       object\n",
       "Review Rating               float64\n",
       "Subscription Status          object\n",
       "Payment Method               object\n",
       "Shipping Type                object\n",
       "Discount Applied             object\n",
       "Promo Code Used              object\n",
       "Previous Purchases            int64\n",
       "Preferred Payment Method     object\n",
       "Frequency of Purchases       object\n",
       "dtype: object"
      ]
     },
     "execution_count": 129,
     "metadata": {},
     "output_type": "execute_result"
    }
   ],
   "source": [
    "cust_data.shape # 3900 rows and 19 columns \n",
    "cust_data.dtypes"
   ]
  },
  {
   "cell_type": "markdown",
   "metadata": {},
   "source": [
    "#### Identifying Missing Values "
   ]
  },
  {
   "cell_type": "code",
   "execution_count": 130,
   "metadata": {},
   "outputs": [
    {
     "data": {
      "text/plain": [
       "Customer ID                 0\n",
       "Age                         0\n",
       "Gender                      0\n",
       "Item Purchased              0\n",
       "Category                    0\n",
       "Purchase Amount (USD)       0\n",
       "Location                    0\n",
       "Size                        0\n",
       "Color                       0\n",
       "Season                      0\n",
       "Review Rating               0\n",
       "Subscription Status         0\n",
       "Payment Method              0\n",
       "Shipping Type               0\n",
       "Discount Applied            0\n",
       "Promo Code Used             0\n",
       "Previous Purchases          0\n",
       "Preferred Payment Method    0\n",
       "Frequency of Purchases      0\n",
       "dtype: int64"
      ]
     },
     "execution_count": 130,
     "metadata": {},
     "output_type": "execute_result"
    }
   ],
   "source": [
    "cust_data.isna().sum() # there is no missing values "
   ]
  },
  {
   "cell_type": "markdown",
   "metadata": {},
   "source": [
    "## Data Analysis Steps"
   ]
  },
  {
   "cell_type": "markdown",
   "metadata": {},
   "source": [
    "### Initial Analysis Plan:\n",
    "Objective:\n",
    "To explore relationships within the dataset to identify key business questions and predict meaningful outcomes. This exploration will help us formulate specific hypotheses and guide our subsequent detailed analyses."
   ]
  },
  {
   "cell_type": "markdown",
   "metadata": {},
   "source": [
    "#### Exploratory Data Analysis"
   ]
  },
  {
   "cell_type": "markdown",
   "metadata": {},
   "source": [
    "Question: Do women spend more on shopping then Men in a single transaction. \n",
    "\n",
    "Conclusion: There is no variance in the average purchase per transaction by Gender. Hence we can not conclude that women spend more per transaction. \n"
   ]
  },
  {
   "cell_type": "code",
   "execution_count": 131,
   "metadata": {},
   "outputs": [
    {
     "data": {
      "text/html": [
       "<div>\n",
       "<style scoped>\n",
       "    .dataframe tbody tr th:only-of-type {\n",
       "        vertical-align: middle;\n",
       "    }\n",
       "\n",
       "    .dataframe tbody tr th {\n",
       "        vertical-align: top;\n",
       "    }\n",
       "\n",
       "    .dataframe thead th {\n",
       "        text-align: right;\n",
       "    }\n",
       "</style>\n",
       "<table border=\"1\" class=\"dataframe\">\n",
       "  <thead>\n",
       "    <tr style=\"text-align: right;\">\n",
       "      <th></th>\n",
       "      <th>Gender</th>\n",
       "      <th>sum</th>\n",
       "      <th>count</th>\n",
       "      <th>mean</th>\n",
       "    </tr>\n",
       "  </thead>\n",
       "  <tbody>\n",
       "    <tr>\n",
       "      <th>0</th>\n",
       "      <td>Female</td>\n",
       "      <td>75191</td>\n",
       "      <td>1248</td>\n",
       "      <td>60.249199</td>\n",
       "    </tr>\n",
       "    <tr>\n",
       "      <th>1</th>\n",
       "      <td>Male</td>\n",
       "      <td>157890</td>\n",
       "      <td>2652</td>\n",
       "      <td>59.536199</td>\n",
       "    </tr>\n",
       "  </tbody>\n",
       "</table>\n",
       "</div>"
      ],
      "text/plain": [
       "   Gender     sum  count       mean\n",
       "0  Female   75191   1248  60.249199\n",
       "1    Male  157890   2652  59.536199"
      ]
     },
     "execution_count": 131,
     "metadata": {},
     "output_type": "execute_result"
    }
   ],
   "source": [
    "# Distribution by Gender \n",
    "cust_data.groupby('Gender')['Purchase Amount (USD)'].agg(['sum', 'count', 'mean']).reset_index()\n",
    "\n"
   ]
  },
  {
   "cell_type": "markdown",
   "metadata": {},
   "source": [
    "Question: Is there any difference in rating by Gender ? \n",
    "\n",
    "Conclusion: There is no difference in rating by Gender. Average rating by Male and Female is almost same. "
   ]
  },
  {
   "cell_type": "code",
   "execution_count": 123,
   "metadata": {},
   "outputs": [
    {
     "data": {
      "text/html": [
       "<div>\n",
       "<style scoped>\n",
       "    .dataframe tbody tr th:only-of-type {\n",
       "        vertical-align: middle;\n",
       "    }\n",
       "\n",
       "    .dataframe tbody tr th {\n",
       "        vertical-align: top;\n",
       "    }\n",
       "\n",
       "    .dataframe thead th {\n",
       "        text-align: right;\n",
       "    }\n",
       "</style>\n",
       "<table border=\"1\" class=\"dataframe\">\n",
       "  <thead>\n",
       "    <tr style=\"text-align: right;\">\n",
       "      <th></th>\n",
       "      <th>Gender</th>\n",
       "      <th>count</th>\n",
       "      <th>mean</th>\n",
       "    </tr>\n",
       "  </thead>\n",
       "  <tbody>\n",
       "  </tbody>\n",
       "</table>\n",
       "</div>"
      ],
      "text/plain": [
       "Empty DataFrame\n",
       "Columns: [Gender, count, mean]\n",
       "Index: []"
      ]
     },
     "execution_count": 123,
     "metadata": {},
     "output_type": "execute_result"
    }
   ],
   "source": [
    "# Rating by Gender \n",
    "cust_data.groupby('Gender')['Review Rating'].agg(['count', 'mean']).reset_index()\n"
   ]
  },
  {
   "cell_type": "markdown",
   "metadata": {},
   "source": [
    "### Question: Do older customers have higher average purchase amounts compared to younger customers?\n",
    "\n",
    "Conclusion: \n",
    "The hypothesis that the total purchase amount is influenced by the age of customers is not supported by the regression analysis. "
   ]
  },
  {
   "cell_type": "code",
   "execution_count": 143,
   "metadata": {},
   "outputs": [],
   "source": [
    "# Create age groups\n",
    "bins = [18, 30, 45, 60, 100]\n",
    "labels = ['19-30', '31-45', '46-60', '60+']\n",
    "cust_data['Age Group'] = pd.cut(cust_data['Age'], bins=bins, labels=labels, right=False)"
   ]
  },
  {
   "cell_type": "code",
   "execution_count": 144,
   "metadata": {},
   "outputs": [
    {
     "name": "stdout",
     "output_type": "stream",
     "text": [
      "   Age Age Group\n",
      "0   55     46-60\n",
      "1   19     19-30\n",
      "2   50     46-60\n",
      "3   21     19-30\n",
      "4   45     46-60\n"
     ]
    }
   ],
   "source": [
    "# Ensure the Age Group column is created correctly\n",
    "print(cust_data[['Age', 'Age Group']].head())"
   ]
  },
  {
   "cell_type": "code",
   "execution_count": 145,
   "metadata": {},
   "outputs": [],
   "source": [
    "# Remove rows with missing Age Group or Purchase Amount (USD)\n",
    "cust_data = cust_data.dropna(subset=['Age Group', 'Purchase Amount (USD)'])"
   ]
  },
  {
   "cell_type": "code",
   "execution_count": 146,
   "metadata": {},
   "outputs": [],
   "source": [
    "# Ensure 'Purchase Amount (USD)' is numeric\n",
    "cust_data['Purchase Amount (USD)'] = pd.to_numeric(cust_data['Purchase Amount (USD)'], errors='coerce')"
   ]
  },
  {
   "cell_type": "code",
   "execution_count": 147,
   "metadata": {},
   "outputs": [
    {
     "name": "stdout",
     "output_type": "stream",
     "text": [
      "Total Purchase Amount by Age Group:\n",
      "  Age Group  Purchase Amount (USD)\n",
      "0     19-30                  52905\n",
      "1     31-45                  65216\n",
      "2     46-60                  68066\n",
      "3       60+                  46894\n"
     ]
    },
    {
     "name": "stderr",
     "output_type": "stream",
     "text": [
      "/var/folders/mn/hzb_sstd3t9f6xyvy2fry_5m0000gn/T/ipykernel_57655/1972247288.py:2: FutureWarning: The default of observed=False is deprecated and will be changed to True in a future version of pandas. Pass observed=False to retain current behavior or observed=True to adopt the future default and silence this warning.\n",
      "  total_purchase_amount = cust_data.groupby('Age Group')['Purchase Amount (USD)'].sum().reset_index()\n"
     ]
    }
   ],
   "source": [
    "# Calculate the total purchase amount for each age group\n",
    "total_purchase_amount = cust_data.groupby('Age Group')['Purchase Amount (USD)'].sum().reset_index()\n",
    "print(\"Total Purchase Amount by Age Group:\")\n",
    "print(total_purchase_amount)"
   ]
  },
  {
   "cell_type": "code",
   "execution_count": 150,
   "metadata": {},
   "outputs": [
    {
     "name": "stdout",
     "output_type": "stream",
     "text": [
      "                              OLS Regression Results                             \n",
      "=================================================================================\n",
      "Dep. Variable:     Purchase Amount (USD)   R-squared:                       0.000\n",
      "Model:                               OLS   Adj. R-squared:                 -0.000\n",
      "Method:                    Least Squares   F-statistic:                    0.4236\n",
      "Date:                   Thu, 20 Jun 2024   Prob (F-statistic):              0.515\n",
      "Time:                           21:26:45   Log-Likelihood:                -17876.\n",
      "No. Observations:                   3900   AIC:                         3.576e+04\n",
      "Df Residuals:                       3898   BIC:                         3.577e+04\n",
      "Df Model:                              1                                         \n",
      "Covariance Type:               nonrobust                                         \n",
      "==============================================================================\n",
      "                 coef    std err          t      P>|t|      [0.025      0.975]\n",
      "------------------------------------------------------------------------------\n",
      "const         60.4798      1.163     52.009      0.000      58.200      62.760\n",
      "Age           -0.0162      0.025     -0.651      0.515      -0.065       0.033\n",
      "==============================================================================\n",
      "Omnibus:                     4694.465   Durbin-Watson:                   1.958\n",
      "Prob(Omnibus):                  0.000   Jarque-Bera (JB):              248.414\n",
      "Skew:                           0.013   Prob(JB):                     1.14e-54\n",
      "Kurtosis:                       1.764   Cond. No.                         143.\n",
      "==============================================================================\n",
      "\n",
      "Notes:\n",
      "[1] Standard Errors assume that the covariance matrix of the errors is correctly specified.\n"
     ]
    }
   ],
   "source": [
    "# Define the dependent variable (Y) and independent variable (X)\n",
    "X = cust_data[['Age']]\n",
    "Y = cust_data['Purchase Amount (USD)']\n",
    "\n",
    "# Add a constant to the independent variable for the intercept term\n",
    "X = sm.add_constant(X)\n",
    "\n",
    "# Fit the linear regression model\n",
    "model = sm.OLS(Y, X).fit()\n",
    "\n",
    "# Print the summary of the regression model\n",
    "print(model.summary())\n"
   ]
  },
  {
   "cell_type": "markdown",
   "metadata": {},
   "source": [
    "Conclusion\n",
    "\n",
    "The F-statistic is 0.4236 with a p-value of 0.515. This high p-value indicates that the model is not statistically significant, meaning that age does not significantly explain the variance in purchase amount.\n",
    "\n",
    "The p-value for the age coefficient (0.515) is much greater than 0.05, meaning we fail to reject the null hypothesis. Thus, there is no evidence to suggest that age has a significant effect on purchase amount.\n",
    "\n",
    "Based on the regression results, there is no significant relationship between age and purchase amount. The model explains none of the variability in purchase amounts, and age does not appear to be a meaningful predictor of purchase amounts. Therefore, we can conclude that older customers do not have higher average purchase amounts compared to younger customers based on this dataset."
   ]
  },
  {
   "cell_type": "markdown",
   "metadata": {},
   "source": [
    "### Question: Are purchases with applied discounts  higher in overall spending?\n",
    "\n",
    "Conclusion: The hypothesis that purchases with applied discounts result in higher overall spending is not supported, as the average purchase amounts are similar and not statistically significantly different between transactions with and without discounts."
   ]
  },
  {
   "cell_type": "code",
   "execution_count": 111,
   "metadata": {},
   "outputs": [],
   "source": [
    "# Convert 'Discount Applied' to string to apply string methods\n",
    "cust_data['Discount Applied'] = cust_data['Discount Applied'].astype(str)"
   ]
  },
  {
   "cell_type": "code",
   "execution_count": 112,
   "metadata": {},
   "outputs": [
    {
     "name": "stdout",
     "output_type": "stream",
     "text": [
      "Unique values in 'Discount Applied' after cleaning: ['1' '0']\n"
     ]
    }
   ],
   "source": [
    "# Check for leading/trailing spaces or case sensitivity issues\n",
    "cust_data['Discount Applied'] = cust_data['Discount Applied'].str.strip().str.lower()\n",
    "unique_discount_values = cust_data['Discount Applied'].unique()\n",
    "print(\"Unique values in 'Discount Applied' after cleaning:\", unique_discount_values)"
   ]
  },
  {
   "cell_type": "code",
   "execution_count": 113,
   "metadata": {},
   "outputs": [
    {
     "name": "stdout",
     "output_type": "stream",
     "text": [
      "Count of 'yes' values: 0\n",
      "Count of 'no' values: 0\n"
     ]
    }
   ],
   "source": [
    "# Check for the presence of 'no' values in the dataset\n",
    "count_yes = (cust_data['Discount Applied'] == 'yes').sum()\n",
    "count_no = (cust_data['Discount Applied'] == 'no').sum()\n",
    "print(f\"Count of 'yes' values: {count_yes}\")\n",
    "print(f\"Count of 'no' values: {count_no}\")"
   ]
  },
  {
   "cell_type": "code",
   "execution_count": 114,
   "metadata": {},
   "outputs": [],
   "source": [
    "# Convert 'Discount Applied' to binary values\n",
    "cust_data['Discount Applied'] = cust_data['Discount Applied'].map({'yes': 1, 'no': 0})"
   ]
  },
  {
   "cell_type": "code",
   "execution_count": 115,
   "metadata": {},
   "outputs": [],
   "source": [
    "# Remove rows with missing Discount Applied or Purchase Amount (USD)\n",
    "cust_data = cust_data.dropna(subset=['Discount Applied', 'Purchase Amount (USD)'])"
   ]
  },
  {
   "cell_type": "code",
   "execution_count": 116,
   "metadata": {},
   "outputs": [],
   "source": [
    "# Ensure 'Purchase Amount (USD)' is numeric\n",
    "cust_data['Purchase Amount (USD)'] = pd.to_numeric(cust_data['Purchase Amount (USD)'], errors='coerce')"
   ]
  },
  {
   "cell_type": "code",
   "execution_count": 117,
   "metadata": {},
   "outputs": [],
   "source": [
    "# Remove rows with non-numeric 'Purchase Amount (USD)'\n",
    "cust_data = cust_data.dropna(subset=['Purchase Amount (USD)'])"
   ]
  },
  {
   "cell_type": "code",
   "execution_count": 118,
   "metadata": {},
   "outputs": [],
   "source": [
    "# Separate transactions with and without discounts\n",
    "with_discount = cust_data[cust_data['Discount Applied'] == 1]['Purchase Amount (USD)']\n",
    "without_discount = cust_data[cust_data['Discount Applied'] == 0]['Purchase Amount (USD)']\n"
   ]
  },
  {
   "cell_type": "code",
   "execution_count": 119,
   "metadata": {},
   "outputs": [],
   "source": [
    "# Calculate the total and average purchase amount for each group\n",
    "total_with_discount = with_discount.sum()\n",
    "total_without_discount = without_discount.sum()\n",
    "average_with_discount = with_discount.mean()\n",
    "average_without_discount = without_discount.mean()"
   ]
  },
  {
   "cell_type": "code",
   "execution_count": 120,
   "metadata": {},
   "outputs": [],
   "source": [
    "# Count the number of transactions for each group\n",
    "count_with_discount = with_discount.count()\n",
    "count_without_discount = without_discount.count()"
   ]
  },
  {
   "cell_type": "code",
   "execution_count": 73,
   "metadata": {},
   "outputs": [
    {
     "name": "stdout",
     "output_type": "stream",
     "text": [
      "Total Purchase Amount with Discount: 99411\n",
      "Total Purchase Amount without Discount: 133670\n",
      "Average Purchase Amount with Discount: 59.27906976744186\n",
      "Average Purchase Amount without Discount: 60.130454340980656\n",
      "Number of Transactions with Discount: 1677\n",
      "Number of Transactions without Discount: 2223\n"
     ]
    }
   ],
   "source": [
    "print(\"Total Purchase Amount with Discount:\", total_with_discount)\n",
    "print(\"Total Purchase Amount without Discount:\", total_without_discount)\n",
    "print(\"Average Purchase Amount with Discount:\", average_with_discount)\n",
    "print(\"Average Purchase Amount without Discount:\", average_without_discount)\n",
    "print(\"Number of Transactions with Discount:\", count_with_discount)\n",
    "print(\"Number of Transactions without Discount:\", count_without_discount)"
   ]
  },
  {
   "cell_type": "code",
   "execution_count": 83,
   "metadata": {},
   "outputs": [
    {
     "name": "stdout",
     "output_type": "stream",
     "text": [
      "                              OLS Regression Results                             \n",
      "=================================================================================\n",
      "Dep. Variable:     Purchase Amount (USD)   R-squared:                       0.000\n",
      "Model:                               OLS   Adj. R-squared:                  0.000\n",
      "Method:                    Least Squares   F-statistic:                     1.235\n",
      "Date:                   Thu, 20 Jun 2024   Prob (F-statistic):              0.266\n",
      "Time:                           13:31:16   Log-Likelihood:                -17876.\n",
      "No. Observations:                   3900   AIC:                         3.576e+04\n",
      "Df Residuals:                       3898   BIC:                         3.577e+04\n",
      "Df Model:                              1                                         \n",
      "Covariance Type:               nonrobust                                         \n",
      "====================================================================================\n",
      "                       coef    std err          t      P>|t|      [0.025      0.975]\n",
      "------------------------------------------------------------------------------------\n",
      "const               60.1305      0.502    119.701      0.000      59.146      61.115\n",
      "Discount Applied    -0.8514      0.766     -1.111      0.266      -2.353       0.651\n",
      "==============================================================================\n",
      "Omnibus:                     4724.775   Durbin-Watson:                   1.957\n",
      "Prob(Omnibus):                  0.000   Jarque-Bera (JB):              248.638\n",
      "Skew:                           0.012   Prob(JB):                     1.02e-54\n",
      "Kurtosis:                       1.763   Cond. No.                         2.49\n",
      "==============================================================================\n",
      "\n",
      "Notes:\n",
      "[1] Standard Errors assume that the covariance matrix of the errors is correctly specified.\n"
     ]
    }
   ],
   "source": [
    "# Define the dependent variable (Y) and independent variable (X)\n",
    "X = cust_data[['Discount Applied']]\n",
    "Y = cust_data['Purchase Amount (USD)']\n",
    "\n",
    "# Add a constant to the independent variable for the intercept term\n",
    "X = sm.add_constant(X)\n",
    "\n",
    "# Fit the linear regression model\n",
    "model = sm.OLS(Y, X).fit()\n",
    "\n",
    "# Print the summary of the regression model\n",
    "print(model.summary())"
   ]
  },
  {
   "cell_type": "markdown",
   "metadata": {},
   "source": [
    "Total Purchase Amount:\n",
    "The total purchase amount for transactions with discounts ($99,411) is lower than for transactions without discounts ($133,670). This is expected because the number of transactions without discounts (2,223) is higher than those with discounts (1,677).\n",
    "\n",
    "Average Purchase Amount:\n",
    "The average purchase amount for transactions with discounts ($59.28) is slightly lower than for transactions without discounts ($60.13). The difference is minor, indicating that on average, customers spend nearly the same amount regardless of whether a discount is applied.\n",
    "\n",
    "Regression Results:\n",
    "- t-statistic: -1.111\n",
    "- p-value: 0.266\n",
    "\n",
    "The p-value of 0.266 is greater than the common significance level of 0.05, indicating that the difference in average purchase amounts between transactions with and without discounts is not statistically significant.\n",
    "The high p-value suggests that any observed difference in average purchase amounts is likely due to random chance rather than a true effect of discounts."
   ]
  },
  {
   "cell_type": "markdown",
   "metadata": {},
   "source": [
    "### Question: Do customers with a higher number of previous purchases have higher average purchase amounts?\n",
    "\n",
    "- Dataset Glossary:\n",
    "Column `Previous Purchases` Provides information on the number or frequency of prior purchases made by the customer, contributing to customer segmentation and retention strategies.\n",
    "\n",
    "Result: The hypothesis that customers with a higher number of previous purchases have higher average purchase amounts is not supported by the regression analysis. "
   ]
  },
  {
   "cell_type": "code",
   "execution_count": 76,
   "metadata": {},
   "outputs": [],
   "source": [
    "# Remove rows with missing Previous Purchases or Purchase Amount (USD)\n",
    "cust_data = cust_data.dropna(subset=['Previous Purchases', 'Purchase Amount (USD)'])"
   ]
  },
  {
   "cell_type": "code",
   "execution_count": 77,
   "metadata": {},
   "outputs": [],
   "source": [
    "# Ensure 'Previous Purchases' and 'Purchase Amount (USD)' are numeric\n",
    "cust_data['Previous Purchases'] = pd.to_numeric(cust_data['Previous Purchases'], errors='coerce')\n",
    "cust_data['Purchase Amount (USD)'] = pd.to_numeric(cust_data['Purchase Amount (USD)'], errors='coerce')"
   ]
  },
  {
   "cell_type": "code",
   "execution_count": 78,
   "metadata": {},
   "outputs": [],
   "source": [
    "# Remove rows with non-numeric values\n",
    "cust_data = cust_data.dropna(subset=['Previous Purchases', 'Purchase Amount (USD)'])"
   ]
  },
  {
   "cell_type": "code",
   "execution_count": 79,
   "metadata": {},
   "outputs": [],
   "source": [
    "# Group customers by Previous Purchases into segments\n",
    "# Example segmentation: 0-5, 6-10, 11-20, 21+\n",
    "bins = [0, 5, 10, 20, np.inf]\n",
    "labels = ['0-5', '6-10', '11-20', '21+']\n",
    "cust_data['Purchase Segment'] = pd.cut(cust_data['Previous Purchases'], bins=bins, labels=labels, right=False)"
   ]
  },
  {
   "cell_type": "code",
   "execution_count": 80,
   "metadata": {},
   "outputs": [
    {
     "name": "stdout",
     "output_type": "stream",
     "text": [
      "Average Purchase Amount by Purchase Segment:\n",
      "  Purchase Segment  count       mean\n",
      "0              0-5    337  59.649852\n",
      "1             6-10    371  62.102426\n",
      "2            11-20    770  58.661039\n",
      "3              21+   2422  59.772915\n"
     ]
    },
    {
     "name": "stderr",
     "output_type": "stream",
     "text": [
      "/var/folders/mn/hzb_sstd3t9f6xyvy2fry_5m0000gn/T/ipykernel_57655/2165194988.py:2: FutureWarning: The default of observed=False is deprecated and will be changed to True in a future version of pandas. Pass observed=False to retain current behavior or observed=True to adopt the future default and silence this warning.\n",
      "  segment_means = cust_data.groupby('Purchase Segment')['Purchase Amount (USD)'].agg(['count', 'mean']).reset_index()\n"
     ]
    }
   ],
   "source": [
    "# Calculate the average purchase amount for each segment\n",
    "segment_means = cust_data.groupby('Purchase Segment')['Purchase Amount (USD)'].agg(['count', 'mean']).reset_index()\n",
    "print(\"Average Purchase Amount by Purchase Segment:\")\n",
    "print(segment_means)"
   ]
  },
  {
   "cell_type": "code",
   "execution_count": 82,
   "metadata": {},
   "outputs": [
    {
     "name": "stdout",
     "output_type": "stream",
     "text": [
      "                              OLS Regression Results                             \n",
      "=================================================================================\n",
      "Dep. Variable:     Purchase Amount (USD)   R-squared:                       0.000\n",
      "Model:                               OLS   Adj. R-squared:                 -0.000\n",
      "Method:                    Least Squares   F-statistic:                    0.2535\n",
      "Date:                   Thu, 20 Jun 2024   Prob (F-statistic):              0.615\n",
      "Time:                           13:22:05   Log-Likelihood:                -17876.\n",
      "No. Observations:                   3900   AIC:                         3.576e+04\n",
      "Df Residuals:                       3898   BIC:                         3.577e+04\n",
      "Df Model:                              1                                         \n",
      "Covariance Type:               nonrobust                                         \n",
      "======================================================================================\n",
      "                         coef    std err          t      P>|t|      [0.025      0.975]\n",
      "--------------------------------------------------------------------------------------\n",
      "const                 59.4292      0.766     77.567      0.000      57.927      60.931\n",
      "Previous Purchases     0.0132      0.026      0.503      0.615      -0.038       0.065\n",
      "==============================================================================\n",
      "Omnibus:                     4720.851   Durbin-Watson:                   1.956\n",
      "Prob(Omnibus):                  0.000   Jarque-Bera (JB):              248.613\n",
      "Skew:                           0.013   Prob(JB):                     1.03e-54\n",
      "Kurtosis:                       1.763   Cond. No.                         59.0\n",
      "==============================================================================\n",
      "\n",
      "Notes:\n",
      "[1] Standard Errors assume that the covariance matrix of the errors is correctly specified.\n"
     ]
    }
   ],
   "source": [
    "# Define the dependent variable (Y) and independent variable (X)\n",
    "X = cust_data[['Previous Purchases']]\n",
    "Y = cust_data['Purchase Amount (USD)']\n",
    "\n",
    "# Add a constant to the independent variable for the intercept term\n",
    "X = sm.add_constant(X)\n",
    "\n",
    "# Fit the linear regression model\n",
    "model = sm.OLS(Y, X).fit()\n",
    "\n",
    "# Print the summary of the regression model\n",
    "print(model.summary())"
   ]
  },
  {
   "cell_type": "markdown",
   "metadata": {},
   "source": [
    "Regression Coefficient:\n",
    "\n",
    "Coefficient for Previous Purchases: 0.0132\n",
    "\n",
    "Standard Error: 0.026\n",
    "\n",
    "t-statistic: 0.503\n",
    "\n",
    "p-value: 0.615\n",
    "\n",
    " The p-value for Previous Purchases is much higher than the significance level, and the R-squared value indicates that the model does not explain the variation in purchase amounts effectively. Therefore, we fail to reject the null hypothesis, suggesting no significant relationship between the number of previous purchases and the purchase amount."
   ]
  },
  {
   "cell_type": "markdown",
   "metadata": {},
   "source": [
    "## Classification Model\n",
    "Lets explore if we can predict if a customer will be a subscriber, based on the provided features. \n",
    "\n",
    "\n",
    "####Results: \n",
    "The model perform pretty well and the accuracy shows that 83% of predictions were correct. This accuracy shows that the model is very much robust and can be useful in predicting whether a customer can be a potential subscriber, based on their shopping habits. "
   ]
  },
  {
   "cell_type": "code",
   "execution_count": 65,
   "metadata": {},
   "outputs": [
    {
     "data": {
      "text/plain": [
       "Customer ID                    int64\n",
       "Age                            int64\n",
       "Gender                        object\n",
       "Item Purchased                object\n",
       "Category                      object\n",
       "Purchase Amount (USD)          int64\n",
       "Location                      object\n",
       "Size                          object\n",
       "Color                         object\n",
       "Season                        object\n",
       "Review Rating                float64\n",
       "Subscription Status           object\n",
       "Payment Method                object\n",
       "Shipping Type                 object\n",
       "Discount Applied              object\n",
       "Promo Code Used               object\n",
       "Previous Purchases             int64\n",
       "Preferred Payment Method      object\n",
       "Frequency of Purchases        object\n",
       "Age Group                   category\n",
       "Purchase Segment            category\n",
       "dtype: object"
      ]
     },
     "execution_count": 65,
     "metadata": {},
     "output_type": "execute_result"
    }
   ],
   "source": [
    "cust_data.dtypes"
   ]
  },
  {
   "cell_type": "code",
   "execution_count": 69,
   "metadata": {},
   "outputs": [],
   "source": [
    "#Encoding categorical data to binary encoding \n",
    "categorical_cols = ['Gender', 'Item Purchased', 'Category', 'Location', 'Size', 'Color', 'Season', 'Subscription Status', 'Payment Method', 'Shipping Type', 'Discount Applied', 'Promo Code Used', 'Preferred Payment Method', 'Frequency of Purchases', 'Age Group', 'Purchase Segment']\n",
    "label_encoders = {}\n",
    "for col in categorical_cols:\n",
    "    le = LabelEncoder()\n",
    "    cust_data[col] = le.fit_transform(cust_data[col])\n",
    "    label_encoders[col] = le\n",
    "\n"
   ]
  },
  {
   "cell_type": "code",
   "execution_count": null,
   "metadata": {},
   "outputs": [],
   "source": [
    "# Split data into training and testing sets\n",
    "X = cust_data.drop(columns=['Subscription Status'])\n",
    "y = cust_data['Subscription Status']\n",
    "X_train, X_test, y_train, y_test = train_test_split(X, y, test_size=0.2, random_state=42)\n"
   ]
  },
  {
   "cell_type": "code",
   "execution_count": 70,
   "metadata": {},
   "outputs": [],
   "source": [
    "# Scale numerical features\n",
    "scaler = StandardScaler()\n",
    "X_train_scaled = scaler.fit_transform(X_train)\n",
    "X_test_scaled = scaler.transform(X_test)"
   ]
  },
  {
   "cell_type": "code",
   "execution_count": 71,
   "metadata": {},
   "outputs": [
    {
     "data": {
      "text/html": [
       "<style>#sk-container-id-2 {\n",
       "  /* Definition of color scheme common for light and dark mode */\n",
       "  --sklearn-color-text: black;\n",
       "  --sklearn-color-line: gray;\n",
       "  /* Definition of color scheme for unfitted estimators */\n",
       "  --sklearn-color-unfitted-level-0: #fff5e6;\n",
       "  --sklearn-color-unfitted-level-1: #f6e4d2;\n",
       "  --sklearn-color-unfitted-level-2: #ffe0b3;\n",
       "  --sklearn-color-unfitted-level-3: chocolate;\n",
       "  /* Definition of color scheme for fitted estimators */\n",
       "  --sklearn-color-fitted-level-0: #f0f8ff;\n",
       "  --sklearn-color-fitted-level-1: #d4ebff;\n",
       "  --sklearn-color-fitted-level-2: #b3dbfd;\n",
       "  --sklearn-color-fitted-level-3: cornflowerblue;\n",
       "\n",
       "  /* Specific color for light theme */\n",
       "  --sklearn-color-text-on-default-background: var(--sg-text-color, var(--theme-code-foreground, var(--jp-content-font-color1, black)));\n",
       "  --sklearn-color-background: var(--sg-background-color, var(--theme-background, var(--jp-layout-color0, white)));\n",
       "  --sklearn-color-border-box: var(--sg-text-color, var(--theme-code-foreground, var(--jp-content-font-color1, black)));\n",
       "  --sklearn-color-icon: #696969;\n",
       "\n",
       "  @media (prefers-color-scheme: dark) {\n",
       "    /* Redefinition of color scheme for dark theme */\n",
       "    --sklearn-color-text-on-default-background: var(--sg-text-color, var(--theme-code-foreground, var(--jp-content-font-color1, white)));\n",
       "    --sklearn-color-background: var(--sg-background-color, var(--theme-background, var(--jp-layout-color0, #111)));\n",
       "    --sklearn-color-border-box: var(--sg-text-color, var(--theme-code-foreground, var(--jp-content-font-color1, white)));\n",
       "    --sklearn-color-icon: #878787;\n",
       "  }\n",
       "}\n",
       "\n",
       "#sk-container-id-2 {\n",
       "  color: var(--sklearn-color-text);\n",
       "}\n",
       "\n",
       "#sk-container-id-2 pre {\n",
       "  padding: 0;\n",
       "}\n",
       "\n",
       "#sk-container-id-2 input.sk-hidden--visually {\n",
       "  border: 0;\n",
       "  clip: rect(1px 1px 1px 1px);\n",
       "  clip: rect(1px, 1px, 1px, 1px);\n",
       "  height: 1px;\n",
       "  margin: -1px;\n",
       "  overflow: hidden;\n",
       "  padding: 0;\n",
       "  position: absolute;\n",
       "  width: 1px;\n",
       "}\n",
       "\n",
       "#sk-container-id-2 div.sk-dashed-wrapped {\n",
       "  border: 1px dashed var(--sklearn-color-line);\n",
       "  margin: 0 0.4em 0.5em 0.4em;\n",
       "  box-sizing: border-box;\n",
       "  padding-bottom: 0.4em;\n",
       "  background-color: var(--sklearn-color-background);\n",
       "}\n",
       "\n",
       "#sk-container-id-2 div.sk-container {\n",
       "  /* jupyter's `normalize.less` sets `[hidden] { display: none; }`\n",
       "     but bootstrap.min.css set `[hidden] { display: none !important; }`\n",
       "     so we also need the `!important` here to be able to override the\n",
       "     default hidden behavior on the sphinx rendered scikit-learn.org.\n",
       "     See: https://github.com/scikit-learn/scikit-learn/issues/21755 */\n",
       "  display: inline-block !important;\n",
       "  position: relative;\n",
       "}\n",
       "\n",
       "#sk-container-id-2 div.sk-text-repr-fallback {\n",
       "  display: none;\n",
       "}\n",
       "\n",
       "div.sk-parallel-item,\n",
       "div.sk-serial,\n",
       "div.sk-item {\n",
       "  /* draw centered vertical line to link estimators */\n",
       "  background-image: linear-gradient(var(--sklearn-color-text-on-default-background), var(--sklearn-color-text-on-default-background));\n",
       "  background-size: 2px 100%;\n",
       "  background-repeat: no-repeat;\n",
       "  background-position: center center;\n",
       "}\n",
       "\n",
       "/* Parallel-specific style estimator block */\n",
       "\n",
       "#sk-container-id-2 div.sk-parallel-item::after {\n",
       "  content: \"\";\n",
       "  width: 100%;\n",
       "  border-bottom: 2px solid var(--sklearn-color-text-on-default-background);\n",
       "  flex-grow: 1;\n",
       "}\n",
       "\n",
       "#sk-container-id-2 div.sk-parallel {\n",
       "  display: flex;\n",
       "  align-items: stretch;\n",
       "  justify-content: center;\n",
       "  background-color: var(--sklearn-color-background);\n",
       "  position: relative;\n",
       "}\n",
       "\n",
       "#sk-container-id-2 div.sk-parallel-item {\n",
       "  display: flex;\n",
       "  flex-direction: column;\n",
       "}\n",
       "\n",
       "#sk-container-id-2 div.sk-parallel-item:first-child::after {\n",
       "  align-self: flex-end;\n",
       "  width: 50%;\n",
       "}\n",
       "\n",
       "#sk-container-id-2 div.sk-parallel-item:last-child::after {\n",
       "  align-self: flex-start;\n",
       "  width: 50%;\n",
       "}\n",
       "\n",
       "#sk-container-id-2 div.sk-parallel-item:only-child::after {\n",
       "  width: 0;\n",
       "}\n",
       "\n",
       "/* Serial-specific style estimator block */\n",
       "\n",
       "#sk-container-id-2 div.sk-serial {\n",
       "  display: flex;\n",
       "  flex-direction: column;\n",
       "  align-items: center;\n",
       "  background-color: var(--sklearn-color-background);\n",
       "  padding-right: 1em;\n",
       "  padding-left: 1em;\n",
       "}\n",
       "\n",
       "\n",
       "/* Toggleable style: style used for estimator/Pipeline/ColumnTransformer box that is\n",
       "clickable and can be expanded/collapsed.\n",
       "- Pipeline and ColumnTransformer use this feature and define the default style\n",
       "- Estimators will overwrite some part of the style using the `sk-estimator` class\n",
       "*/\n",
       "\n",
       "/* Pipeline and ColumnTransformer style (default) */\n",
       "\n",
       "#sk-container-id-2 div.sk-toggleable {\n",
       "  /* Default theme specific background. It is overwritten whether we have a\n",
       "  specific estimator or a Pipeline/ColumnTransformer */\n",
       "  background-color: var(--sklearn-color-background);\n",
       "}\n",
       "\n",
       "/* Toggleable label */\n",
       "#sk-container-id-2 label.sk-toggleable__label {\n",
       "  cursor: pointer;\n",
       "  display: block;\n",
       "  width: 100%;\n",
       "  margin-bottom: 0;\n",
       "  padding: 0.5em;\n",
       "  box-sizing: border-box;\n",
       "  text-align: center;\n",
       "}\n",
       "\n",
       "#sk-container-id-2 label.sk-toggleable__label-arrow:before {\n",
       "  /* Arrow on the left of the label */\n",
       "  content: \"▸\";\n",
       "  float: left;\n",
       "  margin-right: 0.25em;\n",
       "  color: var(--sklearn-color-icon);\n",
       "}\n",
       "\n",
       "#sk-container-id-2 label.sk-toggleable__label-arrow:hover:before {\n",
       "  color: var(--sklearn-color-text);\n",
       "}\n",
       "\n",
       "/* Toggleable content - dropdown */\n",
       "\n",
       "#sk-container-id-2 div.sk-toggleable__content {\n",
       "  max-height: 0;\n",
       "  max-width: 0;\n",
       "  overflow: hidden;\n",
       "  text-align: left;\n",
       "  /* unfitted */\n",
       "  background-color: var(--sklearn-color-unfitted-level-0);\n",
       "}\n",
       "\n",
       "#sk-container-id-2 div.sk-toggleable__content.fitted {\n",
       "  /* fitted */\n",
       "  background-color: var(--sklearn-color-fitted-level-0);\n",
       "}\n",
       "\n",
       "#sk-container-id-2 div.sk-toggleable__content pre {\n",
       "  margin: 0.2em;\n",
       "  border-radius: 0.25em;\n",
       "  color: var(--sklearn-color-text);\n",
       "  /* unfitted */\n",
       "  background-color: var(--sklearn-color-unfitted-level-0);\n",
       "}\n",
       "\n",
       "#sk-container-id-2 div.sk-toggleable__content.fitted pre {\n",
       "  /* unfitted */\n",
       "  background-color: var(--sklearn-color-fitted-level-0);\n",
       "}\n",
       "\n",
       "#sk-container-id-2 input.sk-toggleable__control:checked~div.sk-toggleable__content {\n",
       "  /* Expand drop-down */\n",
       "  max-height: 200px;\n",
       "  max-width: 100%;\n",
       "  overflow: auto;\n",
       "}\n",
       "\n",
       "#sk-container-id-2 input.sk-toggleable__control:checked~label.sk-toggleable__label-arrow:before {\n",
       "  content: \"▾\";\n",
       "}\n",
       "\n",
       "/* Pipeline/ColumnTransformer-specific style */\n",
       "\n",
       "#sk-container-id-2 div.sk-label input.sk-toggleable__control:checked~label.sk-toggleable__label {\n",
       "  color: var(--sklearn-color-text);\n",
       "  background-color: var(--sklearn-color-unfitted-level-2);\n",
       "}\n",
       "\n",
       "#sk-container-id-2 div.sk-label.fitted input.sk-toggleable__control:checked~label.sk-toggleable__label {\n",
       "  background-color: var(--sklearn-color-fitted-level-2);\n",
       "}\n",
       "\n",
       "/* Estimator-specific style */\n",
       "\n",
       "/* Colorize estimator box */\n",
       "#sk-container-id-2 div.sk-estimator input.sk-toggleable__control:checked~label.sk-toggleable__label {\n",
       "  /* unfitted */\n",
       "  background-color: var(--sklearn-color-unfitted-level-2);\n",
       "}\n",
       "\n",
       "#sk-container-id-2 div.sk-estimator.fitted input.sk-toggleable__control:checked~label.sk-toggleable__label {\n",
       "  /* fitted */\n",
       "  background-color: var(--sklearn-color-fitted-level-2);\n",
       "}\n",
       "\n",
       "#sk-container-id-2 div.sk-label label.sk-toggleable__label,\n",
       "#sk-container-id-2 div.sk-label label {\n",
       "  /* The background is the default theme color */\n",
       "  color: var(--sklearn-color-text-on-default-background);\n",
       "}\n",
       "\n",
       "/* On hover, darken the color of the background */\n",
       "#sk-container-id-2 div.sk-label:hover label.sk-toggleable__label {\n",
       "  color: var(--sklearn-color-text);\n",
       "  background-color: var(--sklearn-color-unfitted-level-2);\n",
       "}\n",
       "\n",
       "/* Label box, darken color on hover, fitted */\n",
       "#sk-container-id-2 div.sk-label.fitted:hover label.sk-toggleable__label.fitted {\n",
       "  color: var(--sklearn-color-text);\n",
       "  background-color: var(--sklearn-color-fitted-level-2);\n",
       "}\n",
       "\n",
       "/* Estimator label */\n",
       "\n",
       "#sk-container-id-2 div.sk-label label {\n",
       "  font-family: monospace;\n",
       "  font-weight: bold;\n",
       "  display: inline-block;\n",
       "  line-height: 1.2em;\n",
       "}\n",
       "\n",
       "#sk-container-id-2 div.sk-label-container {\n",
       "  text-align: center;\n",
       "}\n",
       "\n",
       "/* Estimator-specific */\n",
       "#sk-container-id-2 div.sk-estimator {\n",
       "  font-family: monospace;\n",
       "  border: 1px dotted var(--sklearn-color-border-box);\n",
       "  border-radius: 0.25em;\n",
       "  box-sizing: border-box;\n",
       "  margin-bottom: 0.5em;\n",
       "  /* unfitted */\n",
       "  background-color: var(--sklearn-color-unfitted-level-0);\n",
       "}\n",
       "\n",
       "#sk-container-id-2 div.sk-estimator.fitted {\n",
       "  /* fitted */\n",
       "  background-color: var(--sklearn-color-fitted-level-0);\n",
       "}\n",
       "\n",
       "/* on hover */\n",
       "#sk-container-id-2 div.sk-estimator:hover {\n",
       "  /* unfitted */\n",
       "  background-color: var(--sklearn-color-unfitted-level-2);\n",
       "}\n",
       "\n",
       "#sk-container-id-2 div.sk-estimator.fitted:hover {\n",
       "  /* fitted */\n",
       "  background-color: var(--sklearn-color-fitted-level-2);\n",
       "}\n",
       "\n",
       "/* Specification for estimator info (e.g. \"i\" and \"?\") */\n",
       "\n",
       "/* Common style for \"i\" and \"?\" */\n",
       "\n",
       ".sk-estimator-doc-link,\n",
       "a:link.sk-estimator-doc-link,\n",
       "a:visited.sk-estimator-doc-link {\n",
       "  float: right;\n",
       "  font-size: smaller;\n",
       "  line-height: 1em;\n",
       "  font-family: monospace;\n",
       "  background-color: var(--sklearn-color-background);\n",
       "  border-radius: 1em;\n",
       "  height: 1em;\n",
       "  width: 1em;\n",
       "  text-decoration: none !important;\n",
       "  margin-left: 1ex;\n",
       "  /* unfitted */\n",
       "  border: var(--sklearn-color-unfitted-level-1) 1pt solid;\n",
       "  color: var(--sklearn-color-unfitted-level-1);\n",
       "}\n",
       "\n",
       ".sk-estimator-doc-link.fitted,\n",
       "a:link.sk-estimator-doc-link.fitted,\n",
       "a:visited.sk-estimator-doc-link.fitted {\n",
       "  /* fitted */\n",
       "  border: var(--sklearn-color-fitted-level-1) 1pt solid;\n",
       "  color: var(--sklearn-color-fitted-level-1);\n",
       "}\n",
       "\n",
       "/* On hover */\n",
       "div.sk-estimator:hover .sk-estimator-doc-link:hover,\n",
       ".sk-estimator-doc-link:hover,\n",
       "div.sk-label-container:hover .sk-estimator-doc-link:hover,\n",
       ".sk-estimator-doc-link:hover {\n",
       "  /* unfitted */\n",
       "  background-color: var(--sklearn-color-unfitted-level-3);\n",
       "  color: var(--sklearn-color-background);\n",
       "  text-decoration: none;\n",
       "}\n",
       "\n",
       "div.sk-estimator.fitted:hover .sk-estimator-doc-link.fitted:hover,\n",
       ".sk-estimator-doc-link.fitted:hover,\n",
       "div.sk-label-container:hover .sk-estimator-doc-link.fitted:hover,\n",
       ".sk-estimator-doc-link.fitted:hover {\n",
       "  /* fitted */\n",
       "  background-color: var(--sklearn-color-fitted-level-3);\n",
       "  color: var(--sklearn-color-background);\n",
       "  text-decoration: none;\n",
       "}\n",
       "\n",
       "/* Span, style for the box shown on hovering the info icon */\n",
       ".sk-estimator-doc-link span {\n",
       "  display: none;\n",
       "  z-index: 9999;\n",
       "  position: relative;\n",
       "  font-weight: normal;\n",
       "  right: .2ex;\n",
       "  padding: .5ex;\n",
       "  margin: .5ex;\n",
       "  width: min-content;\n",
       "  min-width: 20ex;\n",
       "  max-width: 50ex;\n",
       "  color: var(--sklearn-color-text);\n",
       "  box-shadow: 2pt 2pt 4pt #999;\n",
       "  /* unfitted */\n",
       "  background: var(--sklearn-color-unfitted-level-0);\n",
       "  border: .5pt solid var(--sklearn-color-unfitted-level-3);\n",
       "}\n",
       "\n",
       ".sk-estimator-doc-link.fitted span {\n",
       "  /* fitted */\n",
       "  background: var(--sklearn-color-fitted-level-0);\n",
       "  border: var(--sklearn-color-fitted-level-3);\n",
       "}\n",
       "\n",
       ".sk-estimator-doc-link:hover span {\n",
       "  display: block;\n",
       "}\n",
       "\n",
       "/* \"?\"-specific style due to the `<a>` HTML tag */\n",
       "\n",
       "#sk-container-id-2 a.estimator_doc_link {\n",
       "  float: right;\n",
       "  font-size: 1rem;\n",
       "  line-height: 1em;\n",
       "  font-family: monospace;\n",
       "  background-color: var(--sklearn-color-background);\n",
       "  border-radius: 1rem;\n",
       "  height: 1rem;\n",
       "  width: 1rem;\n",
       "  text-decoration: none;\n",
       "  /* unfitted */\n",
       "  color: var(--sklearn-color-unfitted-level-1);\n",
       "  border: var(--sklearn-color-unfitted-level-1) 1pt solid;\n",
       "}\n",
       "\n",
       "#sk-container-id-2 a.estimator_doc_link.fitted {\n",
       "  /* fitted */\n",
       "  border: var(--sklearn-color-fitted-level-1) 1pt solid;\n",
       "  color: var(--sklearn-color-fitted-level-1);\n",
       "}\n",
       "\n",
       "/* On hover */\n",
       "#sk-container-id-2 a.estimator_doc_link:hover {\n",
       "  /* unfitted */\n",
       "  background-color: var(--sklearn-color-unfitted-level-3);\n",
       "  color: var(--sklearn-color-background);\n",
       "  text-decoration: none;\n",
       "}\n",
       "\n",
       "#sk-container-id-2 a.estimator_doc_link.fitted:hover {\n",
       "  /* fitted */\n",
       "  background-color: var(--sklearn-color-fitted-level-3);\n",
       "}\n",
       "</style><div id=\"sk-container-id-2\" class=\"sk-top-container\"><div class=\"sk-text-repr-fallback\"><pre>KNeighborsClassifier()</pre><b>In a Jupyter environment, please rerun this cell to show the HTML representation or trust the notebook. <br />On GitHub, the HTML representation is unable to render, please try loading this page with nbviewer.org.</b></div><div class=\"sk-container\" hidden><div class=\"sk-item\"><div class=\"sk-estimator fitted sk-toggleable\"><input class=\"sk-toggleable__control sk-hidden--visually\" id=\"sk-estimator-id-2\" type=\"checkbox\" checked><label for=\"sk-estimator-id-2\" class=\"sk-toggleable__label fitted sk-toggleable__label-arrow fitted\">&nbsp;&nbsp;KNeighborsClassifier<a class=\"sk-estimator-doc-link fitted\" rel=\"noreferrer\" target=\"_blank\" href=\"https://scikit-learn.org/1.5/modules/generated/sklearn.neighbors.KNeighborsClassifier.html\">?<span>Documentation for KNeighborsClassifier</span></a><span class=\"sk-estimator-doc-link fitted\">i<span>Fitted</span></span></label><div class=\"sk-toggleable__content fitted\"><pre>KNeighborsClassifier()</pre></div> </div></div></div></div>"
      ],
      "text/plain": [
       "KNeighborsClassifier()"
      ]
     },
     "execution_count": 71,
     "metadata": {},
     "output_type": "execute_result"
    }
   ],
   "source": [
    "# Train KNN model\n",
    "k = 5  \n",
    "knn_model = KNeighborsClassifier(n_neighbors=k)\n",
    "knn_model.fit(X_train_scaled, y_train)"
   ]
  },
  {
   "cell_type": "code",
   "execution_count": 72,
   "metadata": {},
   "outputs": [],
   "source": [
    "# Make predictions\n",
    "y_pred = knn_model.predict(X_test_scaled)"
   ]
  },
  {
   "cell_type": "code",
   "execution_count": 79,
   "metadata": {},
   "outputs": [
    {
     "data": {
      "text/html": [
       "<div>\n",
       "<style scoped>\n",
       "    .dataframe tbody tr th:only-of-type {\n",
       "        vertical-align: middle;\n",
       "    }\n",
       "\n",
       "    .dataframe tbody tr th {\n",
       "        vertical-align: top;\n",
       "    }\n",
       "\n",
       "    .dataframe thead th {\n",
       "        text-align: right;\n",
       "    }\n",
       "</style>\n",
       "<table border=\"1\" class=\"dataframe\">\n",
       "  <thead>\n",
       "    <tr style=\"text-align: right;\">\n",
       "      <th>Truth</th>\n",
       "      <th>0</th>\n",
       "      <th>1</th>\n",
       "    </tr>\n",
       "    <tr>\n",
       "      <th>Predicted</th>\n",
       "      <th></th>\n",
       "      <th></th>\n",
       "    </tr>\n",
       "  </thead>\n",
       "  <tbody>\n",
       "    <tr>\n",
       "      <th>0</th>\n",
       "      <td>469</td>\n",
       "      <td>89</td>\n",
       "    </tr>\n",
       "    <tr>\n",
       "      <th>1</th>\n",
       "      <td>40</td>\n",
       "      <td>182</td>\n",
       "    </tr>\n",
       "  </tbody>\n",
       "</table>\n",
       "</div>"
      ],
      "text/plain": [
       "Truth        0    1\n",
       "Predicted          \n",
       "0          469   89\n",
       "1           40  182"
      ]
     },
     "execution_count": 79,
     "metadata": {},
     "output_type": "execute_result"
    }
   ],
   "source": [
    " confusion_table(y_test, y_pred)\n"
   ]
  },
  {
   "cell_type": "code",
   "execution_count": 80,
   "metadata": {},
   "outputs": [
    {
     "name": "stdout",
     "output_type": "stream",
     "text": [
      "Accuracy: 0.83\n",
      "Classification Report:\n",
      "               precision    recall  f1-score   support\n",
      "\n",
      "           0       0.92      0.84      0.88       558\n",
      "           1       0.67      0.82      0.74       222\n",
      "\n",
      "    accuracy                           0.83       780\n",
      "   macro avg       0.80      0.83      0.81       780\n",
      "weighted avg       0.85      0.83      0.84       780\n",
      "\n"
     ]
    }
   ],
   "source": [
    "# Evaluate model performance\n",
    "accuracy = accuracy_score(y_test, y_pred)\n",
    "report = classification_report(y_test, y_pred)\n",
    "\n",
    "print(f\"Accuracy: {accuracy:.2f}\")\n",
    "print(\"Classification Report:\\n\", report)"
   ]
  },
  {
   "cell_type": "markdown",
   "metadata": {},
   "source": [
    "### Exploring Customer Demographics and Purchasing Behavior"
   ]
  },
  {
   "cell_type": "markdown",
   "metadata": {},
   "source": [
    "Objective:\n",
    "\n",
    "Investigate how customer demographics, specifically 'Gender' and 'Location', influence purchasing behavior to derive actionable insights for targeted marketing strategies."
   ]
  },
  {
   "cell_type": "markdown",
   "metadata": {},
   "source": [
    "#### Dataset Overview and Exploration\n",
    "\n",
    "Objective: Understand the structure and content of the dataset.\n",
    "\n",
    "Key Variables and Attributes Explored:\n",
    "\n",
    "Gender: Analyze differences in purchasing behavior between males and females.\n",
    "\n",
    "Location: Investigate regional variations in purchasing patterns."
   ]
  },
  {
   "cell_type": "code",
   "execution_count": 1,
   "metadata": {},
   "outputs": [
    {
     "name": "stdout",
     "output_type": "stream",
     "text": [
      "Dataset Overview:\n",
      "   Customer ID  Age Gender Item Purchased  Category  Purchase Amount (USD)  \\\n",
      "0            1   55   Male         Blouse  Clothing                     53   \n",
      "1            2   19   Male        Sweater  Clothing                     64   \n",
      "2            3   50   Male          Jeans  Clothing                     73   \n",
      "3            4   21   Male        Sandals  Footwear                     90   \n",
      "4            5   45   Male         Blouse  Clothing                     49   \n",
      "\n",
      "        Location Size      Color  Season  Review Rating Subscription Status  \\\n",
      "0       Kentucky    L       Gray  Winter            3.1                 Yes   \n",
      "1          Maine    L     Maroon  Winter            3.1                 Yes   \n",
      "2  Massachusetts    S     Maroon  Spring            3.1                 Yes   \n",
      "3   Rhode Island    M     Maroon  Spring            3.5                 Yes   \n",
      "4         Oregon    M  Turquoise  Spring            2.7                 Yes   \n",
      "\n",
      "  Payment Method  Shipping Type Discount Applied Promo Code Used  \\\n",
      "0    Credit Card        Express              Yes             Yes   \n",
      "1  Bank Transfer        Express              Yes             Yes   \n",
      "2           Cash  Free Shipping              Yes             Yes   \n",
      "3         PayPal   Next Day Air              Yes             Yes   \n",
      "4           Cash  Free Shipping              Yes             Yes   \n",
      "\n",
      "   Previous Purchases Preferred Payment Method Frequency of Purchases  \n",
      "0                  14                    Venmo            Fortnightly  \n",
      "1                   2                     Cash            Fortnightly  \n",
      "2                  23              Credit Card                 Weekly  \n",
      "3                  49                   PayPal                 Weekly  \n",
      "4                  31                   PayPal               Annually  \n",
      "\n",
      "Missing Values:\n",
      "Customer ID                 0\n",
      "Age                         0\n",
      "Gender                      0\n",
      "Item Purchased              0\n",
      "Category                    0\n",
      "Purchase Amount (USD)       0\n",
      "Location                    0\n",
      "Size                        0\n",
      "Color                       0\n",
      "Season                      0\n",
      "Review Rating               0\n",
      "Subscription Status         0\n",
      "Payment Method              0\n",
      "Shipping Type               0\n",
      "Discount Applied            0\n",
      "Promo Code Used             0\n",
      "Previous Purchases          0\n",
      "Preferred Payment Method    0\n",
      "Frequency of Purchases      0\n",
      "dtype: int64\n",
      "\n",
      "Unique Values:\n",
      "Gender: ['Male' 'Female']\n",
      "Location: ['Kentucky' 'Maine' 'Massachusetts' 'Rhode Island' 'Oregon' 'Wyoming'\n",
      " 'Montana' 'Louisiana' 'West Virginia' 'Missouri' 'Arkansas' 'Hawaii'\n",
      " 'Delaware' 'New Hampshire' 'New York' 'Alabama' 'Mississippi'\n",
      " 'North Carolina' 'California' 'Oklahoma' 'Florida' 'Texas' 'Nevada'\n",
      " 'Kansas' 'Colorado' 'North Dakota' 'Illinois' 'Indiana' 'Arizona'\n",
      " 'Alaska' 'Tennessee' 'Ohio' 'New Jersey' 'Maryland' 'Vermont'\n",
      " 'New Mexico' 'South Carolina' 'Idaho' 'Pennsylvania' 'Connecticut' 'Utah'\n",
      " 'Virginia' 'Georgia' 'Nebraska' 'Iowa' 'South Dakota' 'Minnesota'\n",
      " 'Washington' 'Wisconsin' 'Michigan']\n"
     ]
    }
   ],
   "source": [
    "import pandas as pd\n",
    "\n",
    "# Load the dataset\n",
    "file_path = '../data/processed/shopping_trends.csv'\n",
    "cust_data = pd.read_csv(file_path)\n",
    "\n",
    "# Display dataset overview\n",
    "print(\"Dataset Overview:\")\n",
    "print(cust_data.head())\n",
    "\n",
    "# Check for missing values\n",
    "print(\"\\nMissing Values:\")\n",
    "print(cust_data.isna().sum())\n",
    "\n",
    "# Explore unique values in 'Gender' and 'Location'\n",
    "print(\"\\nUnique Values:\")\n",
    "print(\"Gender:\", cust_data['Gender'].unique())\n",
    "print(\"Location:\", cust_data['Location'].unique())"
   ]
  },
  {
   "cell_type": "markdown",
   "metadata": {},
   "source": [
    "### Customer Behavior Analysis\n",
    "\n",
    "We aim to analyze customer behavior using regression modeling techniques to predict purchase amounts based on demographic and transactional data. We'll start by exploring key variables such as Gender and Location, formulate hypotheses, preprocess the data, and finally implement and test a regression model."
   ]
  },
  {
   "cell_type": "markdown",
   "metadata": {},
   "source": [
    "#### Step 1: Dataset Exploration\n",
    "\n",
    "\n",
    "Objective: Understand the dataset and identify key variables.\n",
    "\n",
    "Problem Statement: Explore the relationship between customer demographics specifically 'Gender' and 'Location' and their purchasing behavior."
   ]
  },
  {
   "cell_type": "code",
   "execution_count": 2,
   "metadata": {},
   "outputs": [
    {
     "name": "stdout",
     "output_type": "stream",
     "text": [
      "Dataset Overview:\n",
      "   Customer ID  Age Gender Item Purchased  Category  Purchase Amount (USD)  \\\n",
      "0            1   55   Male         Blouse  Clothing                     53   \n",
      "1            2   19   Male        Sweater  Clothing                     64   \n",
      "2            3   50   Male          Jeans  Clothing                     73   \n",
      "3            4   21   Male        Sandals  Footwear                     90   \n",
      "4            5   45   Male         Blouse  Clothing                     49   \n",
      "\n",
      "        Location Size      Color  Season  Review Rating Subscription Status  \\\n",
      "0       Kentucky    L       Gray  Winter            3.1                 Yes   \n",
      "1          Maine    L     Maroon  Winter            3.1                 Yes   \n",
      "2  Massachusetts    S     Maroon  Spring            3.1                 Yes   \n",
      "3   Rhode Island    M     Maroon  Spring            3.5                 Yes   \n",
      "4         Oregon    M  Turquoise  Spring            2.7                 Yes   \n",
      "\n",
      "  Payment Method  Shipping Type Discount Applied Promo Code Used  \\\n",
      "0    Credit Card        Express              Yes             Yes   \n",
      "1  Bank Transfer        Express              Yes             Yes   \n",
      "2           Cash  Free Shipping              Yes             Yes   \n",
      "3         PayPal   Next Day Air              Yes             Yes   \n",
      "4           Cash  Free Shipping              Yes             Yes   \n",
      "\n",
      "   Previous Purchases Preferred Payment Method Frequency of Purchases  \n",
      "0                  14                    Venmo            Fortnightly  \n",
      "1                   2                     Cash            Fortnightly  \n",
      "2                  23              Credit Card                 Weekly  \n",
      "3                  49                   PayPal                 Weekly  \n",
      "4                  31                   PayPal               Annually  \n",
      "Index(['Customer ID', 'Age', 'Gender', 'Item Purchased', 'Category',\n",
      "       'Purchase Amount (USD)', 'Location', 'Size', 'Color', 'Season',\n",
      "       'Review Rating', 'Subscription Status', 'Payment Method',\n",
      "       'Shipping Type', 'Discount Applied', 'Promo Code Used',\n",
      "       'Previous Purchases', 'Preferred Payment Method',\n",
      "       'Frequency of Purchases'],\n",
      "      dtype='object')\n",
      "Customer ID                   int64\n",
      "Age                           int64\n",
      "Gender                       object\n",
      "Item Purchased               object\n",
      "Category                     object\n",
      "Purchase Amount (USD)         int64\n",
      "Location                     object\n",
      "Size                         object\n",
      "Color                        object\n",
      "Season                       object\n",
      "Review Rating               float64\n",
      "Subscription Status          object\n",
      "Payment Method               object\n",
      "Shipping Type                object\n",
      "Discount Applied             object\n",
      "Promo Code Used              object\n",
      "Previous Purchases            int64\n",
      "Preferred Payment Method     object\n",
      "Frequency of Purchases       object\n",
      "dtype: object\n",
      "       Customer ID          Age  Purchase Amount (USD)  Review Rating  \\\n",
      "count  3900.000000  3900.000000            3900.000000    3900.000000   \n",
      "mean   1950.500000    44.068462              59.764359       3.749949   \n",
      "std    1125.977353    15.207589              23.685392       0.716223   \n",
      "min       1.000000    18.000000              20.000000       2.500000   \n",
      "25%     975.750000    31.000000              39.000000       3.100000   \n",
      "50%    1950.500000    44.000000              60.000000       3.700000   \n",
      "75%    2925.250000    57.000000              81.000000       4.400000   \n",
      "max    3900.000000    70.000000             100.000000       5.000000   \n",
      "\n",
      "       Previous Purchases  \n",
      "count         3900.000000  \n",
      "mean            25.351538  \n",
      "std             14.447125  \n",
      "min              1.000000  \n",
      "25%             13.000000  \n",
      "50%             25.000000  \n",
      "75%             38.000000  \n",
      "max             50.000000  \n",
      "Gender Purchase Summary:\n",
      "   Gender     sum  count       mean\n",
      "0  Female   75191   1248  60.249199\n",
      "1    Male  157890   2652  59.536199\n"
     ]
    },
    {
     "data": {
      "image/png": "[encoded data removed]",
      "text/plain": [
       "<Figure size 1000x600 with 1 Axes>"
      ]
     },
     "metadata": {},
     "output_type": "display_data"
    },
    {
     "name": "stdout",
     "output_type": "stream",
     "text": [
      "Location Purchase Summary:\n",
      "          Location   sum  count       mean\n",
      "0          Alabama  5261     89  59.112360\n",
      "1           Alaska  4867     72  67.597222\n",
      "2          Arizona  4326     65  66.553846\n",
      "3         Arkansas  4828     79  61.113924\n",
      "4       California  5605     95  59.000000\n",
      "5         Colorado  4222     75  56.293333\n",
      "6      Connecticut  4226     78  54.179487\n",
      "7         Delaware  4758     86  55.325581\n",
      "8          Florida  3798     68  55.852941\n",
      "9          Georgia  4645     79  58.797468\n",
      "10          Hawaii  3752     65  57.723077\n",
      "11           Idaho  5587     93  60.075269\n",
      "12        Illinois  5617     92  61.054348\n",
      "13         Indiana  4655     79  58.924051\n",
      "14            Iowa  4201     69  60.884058\n",
      "15          Kansas  3437     63  54.555556\n",
      "16        Kentucky  4402     79  55.721519\n",
      "17       Louisiana  4848     84  57.714286\n",
      "18           Maine  4388     77  56.987013\n",
      "19        Maryland  4795     86  55.755814\n",
      "20   Massachusetts  4384     72  60.888889\n",
      "21        Michigan  4533     73  62.095890\n",
      "22       Minnesota  4977     88  56.556818\n",
      "23     Mississippi  4883     80  61.037500\n",
      "24        Missouri  4691     81  57.913580\n",
      "25         Montana  5784     96  60.250000\n",
      "26        Nebraska  5172     87  59.448276\n",
      "27          Nevada  5514     87  63.379310\n",
      "28   New Hampshire  4219     71  59.422535\n",
      "29      New Jersey  3802     67  56.746269\n",
      "30      New Mexico  5014     81  61.901235\n",
      "31        New York  5257     87  60.425287\n",
      "32  North Carolina  4742     78  60.794872\n",
      "33    North Dakota  5220     83  62.891566\n",
      "34            Ohio  4649     77  60.376623\n",
      "35        Oklahoma  4376     75  58.346667\n",
      "36          Oregon  4243     74  57.337838\n",
      "37    Pennsylvania  4926     74  66.567568\n",
      "38    Rhode Island  3871     63  61.444444\n",
      "39  South Carolina  4439     76  58.407895\n",
      "40    South Dakota  4236     70  60.514286\n",
      "41       Tennessee  4772     77  61.974026\n",
      "42           Texas  4712     77  61.194805\n",
      "43            Utah  4443     71  62.577465\n",
      "44         Vermont  4860     85  57.176471\n",
      "45        Virginia  4842     77  62.883117\n",
      "46      Washington  4623     73  63.328767\n",
      "47   West Virginia  5174     81  63.876543\n",
      "48       Wisconsin  4196     75  55.946667\n",
      "49         Wyoming  4309     71  60.690141\n"
     ]
    }
   ],
   "source": [
    "# Import necessary libraries\n",
    "import numpy as np\n",
    "import pandas as pd\n",
    "import matplotlib.pyplot as plt\n",
    "\n",
    "# Load the dataset\n",
    "cust_data = pd.read_csv(\"../data/processed/shopping_trends.csv\")\n",
    "\n",
    "# Display dataset overview\n",
    "print(\"Dataset Overview:\")\n",
    "print(cust_data.head())\n",
    "print(cust_data.columns)\n",
    "print(cust_data.dtypes)\n",
    "print(cust_data.describe())\n",
    "\n",
    "# Explore variables: Gender and Location\n",
    "gender_purchase_summary = cust_data.groupby('Gender')['Purchase Amount (USD)'].agg(['sum', 'count', 'mean']).reset_index()\n",
    "print(\"Gender Purchase Summary:\")\n",
    "print(gender_purchase_summary)\n",
    "\n",
    "# Plot Age vs Purchase Amount\n",
    "plt.figure(figsize=(10, 6))\n",
    "plt.scatter(cust_data['Age'], cust_data['Purchase Amount (USD)'], alpha=0.5)\n",
    "plt.title('Age vs Purchase Amount')\n",
    "plt.xlabel('Age')\n",
    "plt.ylabel('Purchase Amount (USD)')\n",
    "plt.grid(True)\n",
    "plt.show()\n",
    "\n",
    "# Explore location-based insights\n",
    "location_purchase_summary = cust_data.groupby('Location')['Purchase Amount (USD)'].agg(['sum', 'count', 'mean']).reset_index()\n",
    "print(\"Location Purchase Summary:\")\n",
    "print(location_purchase_summary)"
   ]
  },
  {
   "cell_type": "markdown",
   "metadata": {},
   "source": [
    "#### Hypothesis Formulation\n",
    "\n",
    "Objective: Formulate hypotheses based on initial exploration.\n",
    "\n",
    "Hypotheses:\n",
    "\n",
    "H1: There is a significant difference in purchase amounts between genders.\n",
    "\n",
    "H2: Age influences purchase amount, with younger customers spending more.\n",
    "\n",
    "H3: Location affects purchasing behavior, with certain regions showing higher average purchases."
   ]
  },
  {
   "cell_type": "markdown",
   "metadata": {},
   "source": [
    "#### Data Preprocessing\n",
    "\n",
    "Objective: Prepare data for regression modeling."
   ]
  },
  {
   "cell_type": "code",
   "execution_count": 3,
   "metadata": {},
   "outputs": [],
   "source": [
    "# Data preprocessing and feature selection\n",
    "# Assuming further preprocessing steps like encoding categorical variables\n",
    "# Selecting features and target variable\n",
    "X = cust_data[['Age', 'Review Rating']]  # Features\n",
    "y = cust_data['Purchase Amount (USD)']   # Target variable"
   ]
  },
  {
   "cell_type": "markdown",
   "metadata": {},
   "source": [
    "#### Regression Modeling\n",
    "\n",
    "Objective: Design, implement, and test a regression model."
   ]
  },
  {
   "cell_type": "code",
   "execution_count": 4,
   "metadata": {},
   "outputs": [
    {
     "name": "stdout",
     "output_type": "stream",
     "text": [
      "Mean Squared Error: 562.2494662957721\n",
      "R-squared: -0.004766223232418154\n"
     ]
    }
   ],
   "source": [
    "from sklearn.model_selection import train_test_split\n",
    "from sklearn.linear_model import LinearRegression\n",
    "from sklearn.metrics import mean_squared_error, r2_score\n",
    "\n",
    "# Splitting the dataset into training and testing sets\n",
    "X_train, X_test, y_train, y_test = train_test_split(X, y, test_size=0.2, random_state=42)\n",
    "\n",
    "# Initializing the linear regression model\n",
    "model = LinearRegression()\n",
    "\n",
    "# Training the model\n",
    "model.fit(X_train, y_train)\n",
    "\n",
    "# Making predictions on the test set\n",
    "y_pred = model.predict(X_test)\n",
    "\n",
    "# Evaluating the model\n",
    "mse = mean_squared_error(y_test, y_pred)\n",
    "r2 = r2_score(y_test, y_pred)\n",
    "\n",
    "print(f\"Mean Squared Error: {mse}\")\n",
    "print(f\"R-squared: {r2}\")"
   ]
  },
  {
   "cell_type": "markdown",
   "metadata": {},
   "source": [
    "#### Conclusion\n",
    "\n",
    "This project highlighted the utility of regression modeling in understanding and predicting customer purchase behavior. By leveraging demographic insights and transactional data, businesses can effectively strategize marketing efforts, optimize product offerings, and ultimately enhance customer satisfaction and loyalty. Continued analysis and refinement of predictive models will be crucial in adapting to evolving consumer preferences and market dynamics.\n",
    "\n",
    "Through this structured approach, we've laid a foundation for ongoing data-driven decision-making aimed at maximizing business growth and customer engagement in the competitive retail landscape."
   ]
  }
 ],
 "metadata": {
  "kernelspec": {
   "display_name": "Python 3",
   "language": "python",
   "name": "python3"
  },
  "language_info": {
   "codemirror_mode": {
    "name": "ipython",
    "version": 3
   },
   "file_extension": ".py",
   "mimetype": "text/x-python",
   "name": "python",
   "nbconvert_exporter": "python",
   "pygments_lexer": "ipython3",
   "version": "3.9.18"
  }
 },
 "nbformat": 4,
 "nbformat_minor": 2
}
